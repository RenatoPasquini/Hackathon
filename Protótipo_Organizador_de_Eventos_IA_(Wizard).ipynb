{
 "cells": [
  {
   "cell_type": "markdown",
   "metadata": {},
   "source": [
    "# Jupyter Notebook para Testar e Iterar com as APIs de Eventos"
   ]
  },
  {
   "cell_type": "markdown",
   "metadata": {},
   "source": [
    "Este notebook permite testar e iterar com as APIs de organização de eventos. Ele contém o código para configurar as chaves da API, definir as funções para fazer as requisições às APIs, e testar o endpoint `/api/compile_responses`."
   ]
  },
  {
   "cell_type": "markdown",
   "metadata": {},
   "source": [
    "## 1. Configuração das Chaves da API\n",
    "Certifique-se de ter as seguintes variáveis de ambiente definidas:\n",
    " - `OPENAI_API_KEY`: Chave da API OpenAI.\n",
    " - `FOOD_API_KEY`: Chave da API para sugestões de comida.\n",
    " - `ACTIVITIES_API_KEY`: Chave da API para sugestões de atividades.\n",
    " - `SPOTIFY_API_KEY`: Chave da API para sugestões de playlist do Spotify.\n",
    " - `PARTY_PLACE_API_KEY`: Chave da API para sugestões de locais para a festa.\n",
    "\n",
    "Você pode definir essas variáveis no seu ambiente ou diretamente no notebook."
   ]
  },
  {
   "cell_type": "code",
   "execution_count": 1,
   "id": "a91fbcc6",
   "metadata": {},
   "outputs": [
    {
     "name": "stdout",
     "output_type": "stream",
     "text": [
      "APIs configuradas com sucesso.\n"
     ]
    }
   ],
   "source": [
    "import os\n",
    "from openai import OpenAI\n",
    "from dotenv import load_dotenv\n",
    "\n",
    "# Carregar variáveis de ambiente do ficheiro .env\n",
    "load_dotenv()\n",
    "\n",
    "# Configurar as API Keys\n",
    "try:\n",
    "    # Configuração das APIs\n",
    "    api_configurations = {\n",
    "        \"model\": \"gpt-3.5-turbo\",\n",
    "        \"url\": \"https://api.openai.com/v1/chat/completions\",\n",
    "        \"api_key\": os.environ.get(\"OPENAI_API_KEY\"),\n",
    "    }\n",
    "\n",
    "    # Inicializar o cliente OpenAI\n",
    "    openai_api = OpenAI(api_key=api_configurations[\"api_key\"])\n",
    "    print(\"Modelo OpenAI configurado com sucesso.\")\n",
    "\n",
    "except Exception as e:\n",
    "    print(f\"Erro ao configurar as APIs: {e}\")\n",
    "    openai_api = None  # Impede a execução se o modelo não estiver configurado"
   ]
  },
  {
   "cell_type": "markdown",
   "id": "895d3364",
   "metadata": {},
   "source": [
    "## 2. Funções para Fazer as Requisições às APIs"
   ]
  },
  {
   "cell_type": "code",
   "execution_count": 2,
   "id": "2c57c593",
   "metadata": {},
   "outputs": [],
   "source": [
    "def get_food_suggestions(event_details, prompt):\n",
    "    \"\"\"Obtém sugestões de comida.\"\"\"\n",
    "    try:\n",
    "        completion = openai_api.chat.completions.create(\n",
    "            model=api_configurations[\"model\"],\n",
    "            messages=[{\"role\": \"user\", \"content\": f\"{prompt}. Detalhes do Evento: {event_details}\" }],\n",
    "        )\n",
    "        return completion.choices[0].message.content\n",
    "    except Exception as e:\n",
    "        print(f\"Erro ao obter sugestões de comida: {e}\")\n",
    "        return \"Não foi possível obter sugestões de comida.\"\n",
    "\n",
    "def get_activities_suggestions(event_details, prompt):\n",
    "    \"\"\"Obtém sugestões de atividades.\"\"\"\n",
    "    try:\n",
    "        completion = activities_api.chat.completions.create(\n",
    "            model=api_configurations[\"model\"],\n",
    "            messages=[{\"role\": \"user\", \"content\": f\"{prompt}. Detalhes do Evento: {event_details}\" }],\n",
    "        )\n",
    "        return completion.choices[0].message.content\n",
    "    except Exception as e:\n",
    "        print(f\"Erro ao obter sugestões de atividades: {e}\")\n",
    "        return \"Não foi possível obter sugestões de atividades.\"\n",
    "\n",
    "def get_spotify_playlist(event_details, prompt):\n",
    "    \"\"\"Obtém sugestões de playlist do Spotify.\"\"\"\n",
    "    try:\n",
    "        completion = spotify_api.chat.completions.create(\n",
    "            model=api_configurations[\"model\"],\n",
    "            messages=[{\"role\": \"user\", \"content\": f\"{prompt}. Detalhes do Evento: {event_details}\" }],\n",
    "        )\n",
    "        return completion.choices[0].message.content\n",
    "    except Exception as e:\n",
    "        print(f\"Erro ao obter sugestões de playlist: {e}\")\n",
    "        return \"Não foi possível obter sugestões de playlist.\"\n",
    "\n",
    "def get_party_place(event_details, prompt):\n",
    "    \"\"\"Obtém sugestões de local para a festa.\"\"\"\n",
    "    try:\n",
    "        completion = party_place_api.chat.completions.create(\n",
    "            model=api_configurations[\"model\"],\n",
    "            messages=[{\"role\": \"user\", \"content\": f\"{prompt}. Detalhes do Evento: {event_details}\" }],\n",
    "        )\n",
    "        return completion.choices[0].message.content\n",
    "    except Exception as e:\n",
    "        print(f\"Erro ao obter sugestões de local: {e}\")\n",
    "        return \"Não foi possível obter sugestões de local.\""
   ]
  },
  {
   "cell_type": "markdown",
   "id": "1a3caed2",
   "metadata": {},
   "source": [
    "## 3. Testando o Endpoint `/api/compile_responses`"
   ]
  },
  {
   "cell_type": "markdown",
   "id": "422e9af0",
   "metadata": {},
   "source": [
    "Para testar o endpoint, defina os detalhes do evento e execute a célula de código abaixo.  A resposta compilada será exibida em formato Markdown."
   ]
  },
  {
   "cell_type": "code",
   "execution_count": 3,
   "id": "32bc222a",
   "metadata": {},
   "outputs": [
    {
     "name": "stdout",
     "output_type": "stream",
     "text": [
      "Erro ao obter sugestões de comida: Error code: 404 - [{'error': {'code': 404, 'message': 'models/gpt-3.5-turbo is not found for API version v1main, or is not supported for generateContent. Call ListModels to see the list of available models and their supported methods.', 'status': 'NOT_FOUND'}}]\n",
      "Erro ao obter sugestões de atividades: Error code: 404 - [{'error': {'code': 404, 'message': 'models/gpt-3.5-turbo is not found for API version v1main, or is not supported for generateContent. Call ListModels to see the list of available models and their supported methods.', 'status': 'NOT_FOUND'}}]\n",
      "Erro ao obter sugestões de playlist: Error code: 401 - {'error': {'message': 'Incorrect API key provided: AIzaSyBp***************************8qGw. You can find your API key at https://platform.openai.com/account/api-keys.', 'type': 'invalid_request_error', 'param': None, 'code': 'invalid_api_key'}}\n",
      "Erro ao obter sugestões de local: Error code: 404 - [{'error': {'code': 404, 'message': 'models/gpt-3.5-turbo is not found for API version v1main, or is not supported for generateContent. Call ListModels to see the list of available models and their supported methods.', 'status': 'NOT_FOUND'}}]\n",
      "\n",
      "# Sugestões para o Evento: Festa de Aniversário\n",
      "\n",
      "## Comida:\n",
      "Não foi possível obter sugestões de comida.\n",
      "\n",
      "## Atividades:\n",
      "Não foi possível obter sugestões de atividades.\n",
      "\n",
      "## Playlist Spotify:\n",
      "Não foi possível obter sugestões de playlist.\n",
      "\n",
      "## Local da Festa:\n",
      "Não foi possível obter sugestões de local.\n",
      "\n"
     ]
    }
   ],
   "source": [
    "import json\n",
    "\n",
    "# Defina os detalhes do evento\n",
    "event_details = {\n",
    "    \"eventName\": \"Festa de Aniversário\",\n",
    "    \"eventType\": \"Confraternização\",\n",
    "    \"guestCount\": 50,\n",
    "    \"budget\": \"5000 EUR\",\n",
    "    \"eventDate\": \"2024-12-24\",\n",
    "    \"eventObjective\": \"Celebrar mais um ano de vida!\"\n",
    "}\n",
    "\n",
    "# --- Prompts para cada API --- (Exemplo)\n",
    "food_prompt = f\"Sugira opções de comida para um evento. Detalhes do Evento: {event_details}\"\n",
    "activities_prompt = f\"Sugira atividades para um evento. Detalhes do Evento: {event_details}\"\n",
    "spotify_prompt = f\"Sugira uma playlist do Spotify para um evento. Detalhes do Evento: {event_details}\"\n",
    "party_place_prompt = f\"Sugira um local para a festa. Detalhes do Evento: {event_details}\"\n",
    "\n",
    "# Obter respostas de várias APIs\n",
    "food_response = get_food_suggestions(event_details, food_prompt)\n",
    "activities_response = get_activities_suggestions(event_details, activities_prompt)\n",
    "spotify_response = get_spotify_playlist(event_details, spotify_prompt)\n",
    "party_place_response = get_party_place(event_details, party_place_prompt)\n",
    "\n",
    "# --- Lógica para compilar respostas em Markdown ---\n",
    "compiled_response = f\"\"\"\n",
    "# Sugestões para o Evento: {event_details.get('eventName', 'Não especificado')}\n",
    "\n",
    "## Comida:\n",
    "{food_response}\n",
    "\n",
    "## Atividades:\n",
    "{activities_response}\n",
    "\n",
    "## Playlist Spotify:\n",
    "{spotify_response}\n",
    "\n",
    "## Local da Festa:\n",
    "{party_place_response}\n",
    "\"\"\"\n",
    "\n",
    "print(compiled_response)"
   ]
  },
  {
   "cell_type": "markdown",
   "metadata": {},
   "source": [
    "## 4. Próximos Passos\n",
    " - **Iteração:** Modifique os `event_details` e os `prompts` para testar diferentes cenários e obter resultados variados.\n",
    " - **Integração:** Integre este código ao seu aplicativo Flask para usar as APIs em tempo real."
   ]
  }
 ],
 "metadata": {
  "kernelspec": {
   "display_name": "llms",
   "language": "python",
   "name": "python3"
  },
  "language_info": {
   "name": "python",
   "version": "3.11.12"
  }
 },
 "nbformat": 4,
 "nbformat_minor": 5
}
